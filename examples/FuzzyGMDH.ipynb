{
 "cells": [
  {
   "cell_type": "code",
   "execution_count": 1,
   "metadata": {},
   "outputs": [],
   "source": [
    "from copy import deepcopy\n",
    "from itertools import combinations\n",
    "import typing as tp\n",
    "\n",
    "# For soliving lin prog task interior-point algorithm\n",
    "# is used, it will raise lots of warnings for `bad` matrices\n",
    "import warnings\n",
    "warnings.filterwarnings(\"ignore\")\n",
    "\n",
    "import numpy as np\n",
    "import pandas as pd\n",
    "from numpy.linalg import lstsq\n",
    "from scipy.optimize import linprog\n",
    "\n",
    "from matplotlib import pyplot as plt\n",
    "from citk.layer import Dense, FuzzyGMDHLayer\n",
    "from citk.model import FFN, GMDH\n",
    "from citk.functions import ReLU, Linear, BellMembership, GaussianMembership, Poly\n",
    "from citk.losses import MSE, FMSE\n",
    "from citk.optimisers import SGDOptimizer\n",
    "\n",
    "from utils import get_and_process_boston_dataset, visualise_boston, seed_everything\n",
    "\n",
    "%matplotlib inline"
   ]
  },
  {
   "cell_type": "markdown",
   "metadata": {},
   "source": [
    "# Data"
   ]
  },
  {
   "cell_type": "code",
   "execution_count": 2,
   "metadata": {},
   "outputs": [
    {
     "data": {
      "image/png": "[encoded data removed]",
      "text/plain": [
       "<Figure size 432x288 with 1 Axes>"
      ]
     },
     "metadata": {
      "needs_background": "light"
     },
     "output_type": "display_data"
    },
    {
     "data": {
      "image/png": "[encoded data removed]",
      "text/plain": [
       "<Figure size 432x288 with 1 Axes>"
      ]
     },
     "metadata": {
      "needs_background": "light"
     },
     "output_type": "display_data"
    }
   ],
   "source": [
    "RANDOM_SEED = 42\n",
    "\n",
    "seed_everything(RANDOM_SEED)\n",
    "\n",
    "X_train, X_test, y_train, y_test = get_and_process_boston_dataset(random_state=RANDOM_SEED)\n",
    "\n",
    "visualise_boston(X_train, X_test, y_train, y_test)"
   ]
  },
  {
   "cell_type": "markdown",
   "metadata": {},
   "source": [
    "# GMDH "
   ]
  },
  {
   "cell_type": "code",
   "execution_count": 3,
   "metadata": {},
   "outputs": [],
   "source": [
    "model = GMDH(\n",
    "            method_type='fuzzy', \n",
    "            poli_type='quadratic',\n",
    "            loss=MSE, \n",
    "            confidence=0.9,\n",
    "        )"
   ]
  },
  {
   "cell_type": "code",
   "execution_count": 4,
   "metadata": {},
   "outputs": [
    {
     "data": {
      "application/vnd.jupyter.widget-view+json": {
       "model_id": "27e43499de994d8c8b8304566faf7fa5",
       "version_major": 2,
       "version_minor": 0
      },
      "text/plain": [
       "Training :   0%|          | 0/6 [00:00<?, ?it/s]"
      ]
     },
     "metadata": {},
     "output_type": "display_data"
    },
    {
     "data": {
      "application/vnd.jupyter.widget-view+json": {
       "model_id": "116a5a2365ce495c96c72e1080848745",
       "version_major": 2,
       "version_minor": 0
      },
      "text/plain": [
       "One fit:   0%|          | 0/78 [00:00<?, ?it/s]"
      ]
     },
     "metadata": {},
     "output_type": "display_data"
    },
    {
     "name": "stdout",
     "output_type": "stream",
     "text": [
      "Layer: 0. Metric: 0.9608228957546737\n"
     ]
    },
    {
     "data": {
      "application/vnd.jupyter.widget-view+json": {
       "model_id": "b0597da2acda4d2982f6d6ebfe11ee84",
       "version_major": 2,
       "version_minor": 0
      },
      "text/plain": [
       "One fit:   0%|          | 0/190 [00:00<?, ?it/s]"
      ]
     },
     "metadata": {},
     "output_type": "display_data"
    },
    {
     "name": "stdout",
     "output_type": "stream",
     "text": [
      "Layer: 1. Metric: 0.7895005687370932\n"
     ]
    },
    {
     "data": {
      "application/vnd.jupyter.widget-view+json": {
       "model_id": "824d8457c6914ccca2c83fc620d2aaeb",
       "version_major": 2,
       "version_minor": 0
      },
      "text/plain": [
       "One fit:   0%|          | 0/190 [00:00<?, ?it/s]"
      ]
     },
     "metadata": {},
     "output_type": "display_data"
    },
    {
     "name": "stdout",
     "output_type": "stream",
     "text": [
      "Layer: 2. Metric: 0.6601221089461191\n"
     ]
    },
    {
     "data": {
      "application/vnd.jupyter.widget-view+json": {
       "model_id": "5502c2f460704ca89b0b3f72dc1a0a04",
       "version_major": 2,
       "version_minor": 0
      },
      "text/plain": [
       "One fit:   0%|          | 0/190 [00:00<?, ?it/s]"
      ]
     },
     "metadata": {},
     "output_type": "display_data"
    },
    {
     "name": "stdout",
     "output_type": "stream",
     "text": [
      "Layer: 3. Metric: 0.5485473540159781\n"
     ]
    },
    {
     "data": {
      "application/vnd.jupyter.widget-view+json": {
       "model_id": "7cbe2772b0344a628150cc76c9261c01",
       "version_major": 2,
       "version_minor": 0
      },
      "text/plain": [
       "One fit:   0%|          | 0/190 [00:00<?, ?it/s]"
      ]
     },
     "metadata": {},
     "output_type": "display_data"
    },
    {
     "name": "stdout",
     "output_type": "stream",
     "text": [
      "Layer: 4. Metric: 0.4981718167990625\n"
     ]
    },
    {
     "data": {
      "application/vnd.jupyter.widget-view+json": {
       "model_id": "7055df8a9a27412aa8b9ef59769ed944",
       "version_major": 2,
       "version_minor": 0
      },
      "text/plain": [
       "One fit:   0%|          | 0/190 [00:00<?, ?it/s]"
      ]
     },
     "metadata": {},
     "output_type": "display_data"
    },
    {
     "name": "stdout",
     "output_type": "stream",
     "text": [
      "Layer: 5. Metric: 0.4326555373591404\n"
     ]
    }
   ],
   "source": [
    "model, history  = model.fit(\n",
    "    (X_train, y_train),\n",
    "    (X_test, y_test),\n",
    "    max_gmdh_layers=6,\n",
    "    n_best_to_take=20,\n",
    "    batch_size=64,\n",
    "    verbose=True,\n",
    ")"
   ]
  },
  {
   "cell_type": "code",
   "execution_count": 5,
   "metadata": {},
   "outputs": [
    {
     "data": {
      "text/plain": [
       "{'pairs': [[(4, 12),\n",
       "   (7, 12),\n",
       "   (8, 12),\n",
       "   (10, 12),\n",
       "   (2, 12),\n",
       "   (1, 12),\n",
       "   (5, 9),\n",
       "   (9, 12),\n",
       "   (5, 8),\n",
       "   (5, 10),\n",
       "   (1, 12),\n",
       "   (5, 12),\n",
       "   (10, 12),\n",
       "   (10, 12),\n",
       "   (3, 12),\n",
       "   (4, 5),\n",
       "   (5, 12),\n",
       "   (5, 10),\n",
       "   (1, 5),\n",
       "   (5, 7)],\n",
       "  [(0, 16),\n",
       "   (1, 9),\n",
       "   (1, 7),\n",
       "   (2, 9),\n",
       "   (2, 16),\n",
       "   (0, 12),\n",
       "   (4, 8),\n",
       "   (1, 2),\n",
       "   (1, 8),\n",
       "   (4, 12),\n",
       "   (0, 8),\n",
       "   (4, 16),\n",
       "   (3, 4),\n",
       "   (1, 12),\n",
       "   (0, 17),\n",
       "   (0, 2),\n",
       "   (0, 1),\n",
       "   (5, 16),\n",
       "   (1, 11),\n",
       "   (4, 7)],\n",
       "  [(1, 3),\n",
       "   (1, 4),\n",
       "   (0, 1),\n",
       "   (4, 10),\n",
       "   (1, 16),\n",
       "   (2, 4),\n",
       "   (1, 17),\n",
       "   (0, 4),\n",
       "   (4, 13),\n",
       "   (1, 5),\n",
       "   (1, 7),\n",
       "   (0, 8),\n",
       "   (1, 15),\n",
       "   (3, 13),\n",
       "   (2, 3),\n",
       "   (3, 8),\n",
       "   (1, 14),\n",
       "   (4, 8),\n",
       "   (5, 18),\n",
       "   (4, 18)],\n",
       "  [(6, 18),\n",
       "   (16, 18),\n",
       "   (0, 11),\n",
       "   (13, 15),\n",
       "   (3, 9),\n",
       "   (3, 6),\n",
       "   (6, 14),\n",
       "   (1, 7),\n",
       "   (5, 19),\n",
       "   (6, 17),\n",
       "   (8, 11),\n",
       "   (8, 16),\n",
       "   (0, 6),\n",
       "   (1, 18),\n",
       "   (1, 6),\n",
       "   (5, 18),\n",
       "   (13, 18),\n",
       "   (7, 18),\n",
       "   (6, 8),\n",
       "   (0, 5)],\n",
       "  [(0, 8),\n",
       "   (5, 15),\n",
       "   (9, 15),\n",
       "   (0, 11),\n",
       "   (0, 18),\n",
       "   (1, 5),\n",
       "   (0, 14),\n",
       "   (0, 19),\n",
       "   (15, 18),\n",
       "   (1, 6),\n",
       "   (6, 8),\n",
       "   (5, 10),\n",
       "   (14, 15),\n",
       "   (5, 16),\n",
       "   (8, 9),\n",
       "   (1, 11),\n",
       "   (1, 7),\n",
       "   (1, 14),\n",
       "   (5, 7),\n",
       "   (4, 13)],\n",
       "  [(3, 10),\n",
       "   (13, 14),\n",
       "   (10, 17),\n",
       "   (5, 14),\n",
       "   (3, 19),\n",
       "   (0, 6),\n",
       "   (0, 14),\n",
       "   (0, 3),\n",
       "   (5, 10),\n",
       "   (1, 9),\n",
       "   (6, 14),\n",
       "   (11, 19),\n",
       "   (1, 18),\n",
       "   (1, 16),\n",
       "   (4, 14),\n",
       "   (1, 13),\n",
       "   (0, 11),\n",
       "   (1, 15),\n",
       "   (3, 18),\n",
       "   (6, 16)]],\n",
       " 'weights': [[array([ 3.91221966e-01, -1.22918652e+00, -3.12715538e-01, -6.24873544e-02,\n",
       "           6.29155808e-03,  1.78000394e-01,  4.44644552e-12,  6.40679525e-12,\n",
       "           1.27423934e-11,  1.15913066e-11,  1.26541039e-01,  9.95344022e-01]),\n",
       "   array([-3.64033327e-01, -9.22653540e-01,  4.58044338e-01,  1.57072459e-01,\n",
       "          -4.57610162e-02,  2.19732398e-03,  2.82628001e-01,  1.67501363e-11,\n",
       "           3.97173200e-11,  1.73233917e-11,  1.30632101e-01,  7.70926084e-01]),\n",
       "   array([ 2.80867196e-01, -8.93250862e-01, -1.60850785e-01, -4.24682174e-01,\n",
       "          -2.95352404e-02,  4.65175481e-01,  7.12547052e-12,  3.37718865e-12,\n",
       "           5.91049747e-11,  4.66426121e-12,  1.18651786e-01,  1.02888927e+00]),\n",
       "   array([-2.12612391e-01, -8.86333099e-01,  8.40970172e-02, -1.06469544e-01,\n",
       "          -1.84530401e-01,  2.41482333e-01,  3.92477656e-13,  5.73103421e-13,\n",
       "           7.93123172e-13,  8.29836379e-02,  1.91068670e-01,  7.09162800e-01]),\n",
       "   array([-5.12719860e-02, -7.73137763e-01, -3.53114643e-01,  2.95443234e-01,\n",
       "          -1.10049876e-01, -1.24164117e-01,  1.83367503e-14,  2.26711126e-14,\n",
       "           1.53517724e-14,  3.16063842e-13,  1.44283605e-01,  8.67239988e-01]),\n",
       "   array([ 4.40559585e-01, -9.17665775e-01,  2.33456574e-01, -1.23227047e-01,\n",
       "          -9.31622651e-02,  2.66462861e-01,  1.91493472e-11,  1.17173138e-10,\n",
       "           7.57854246e-11,  3.67181315e-10,  1.77833144e-01,  9.14816275e-01]),\n",
       "   array([ 5.67838248e-01, -2.65887167e-01, -1.38205890e-01,  2.82485069e-01,\n",
       "          -1.42743653e-01, -1.11090664e-01,  7.37517376e-12,  1.75727792e-01,\n",
       "           1.26040005e-02,  1.09186183e-01,  1.41121089e-10,  6.06561430e-01]),\n",
       "   array([-1.34405782e-01, -7.30994575e-01, -5.71916993e-01,  4.67780174e-01,\n",
       "           6.60542404e-04, -2.68108620e-01,  3.01252917e-02,  3.36261574e-11,\n",
       "           1.29433022e-10,  3.63722666e-11,  1.35799745e-01,  8.73515496e-01]),\n",
       "   array([ 5.75059491e-01,  1.12127248e-01, -1.70066691e-01,  3.14645054e-01,\n",
       "          -4.23422994e-01,  1.84535826e-01,  1.14905322e-11,  9.10633882e-02,\n",
       "           9.41329026e-03,  1.03222315e-01,  2.64674971e-11,  7.40847020e-01]),\n",
       "   array([ 4.91851835e-01, -8.32456765e-01, -2.96880075e-01,  1.62883398e-01,\n",
       "          -2.58511717e-01,  6.41840836e-02,  1.61097296e-14,  2.51618320e-01,\n",
       "           2.52721331e-14,  9.80842530e-15,  2.33473105e-14,  7.65820501e-01]),\n",
       "   array([-6.88626392e-01, -1.70779467e+00, -8.80993832e-01, -5.00753277e-02,\n",
       "           4.77349226e-01, -8.45770759e-01,  1.73384790e-12,  1.29448739e-12,\n",
       "           1.62911879e-12,  4.42841581e-02,  1.24231310e-13,  8.76156961e-01]),\n",
       "   array([ 5.33413502e-01, -9.32260007e-01,  2.09758045e-01,  2.17029964e-01,\n",
       "          -1.78057049e-02,  1.50330789e-01,  3.10493058e-13,  2.64192154e-13,\n",
       "           2.74678734e-13,  1.36174476e-13,  1.62418165e-01,  9.00246879e-01]),\n",
       "   array([-3.83620772e-01, -6.69963818e-01,  3.66638303e-01,  1.84647881e-01,\n",
       "           1.95244799e-01, -2.28633774e-01,  5.10190733e-01,  7.07529699e-01,\n",
       "           6.45539569e-12,  3.50051679e-12,  1.04886976e-12,  2.74402202e-01]),\n",
       "   array([ 1.47936679e-01, -1.28242882e+00,  5.55196191e-01,  2.29227565e-01,\n",
       "           4.02976488e-01, -6.53604959e-01,  5.07331661e-13,  5.99723150e-02,\n",
       "           2.77256504e-01,  1.69458590e-14,  3.80641268e-13,  8.62488636e-01]),\n",
       "   array([-2.55387781e-02, -6.66013833e-01, -2.08753178e-01,  5.19915475e-02,\n",
       "          -3.22006986e-01,  1.37543163e-01,  1.32661567e-13,  1.23742976e-13,\n",
       "           3.64111253e-13,  3.73989986e-13,  1.14012721e-01,  1.06021237e+00]),\n",
       "   array([-7.81525662e-01,  6.03441461e-01, -1.97338578e-01,  2.47350534e-01,\n",
       "           2.17134331e-01, -4.06906223e-01,  5.05304136e-02,  4.60426001e-10,\n",
       "           4.25599057e-10,  2.80626112e-02,  1.08816406e-01,  7.46775458e-01]),\n",
       "   array([-1.41529195e-02, -1.76453707e+00, -1.85175553e-01,  1.08389714e-02,\n",
       "           4.99387312e-01, -1.79824770e-01,  4.75024378e-12,  1.53219239e+00,\n",
       "           4.33380002e-02,  3.80163833e-13,  1.05932221e-12,  2.69550677e-01]),\n",
       "   array([ 8.09219067e-01, -7.11512489e-01, -3.32501893e-01,  7.80125260e-02,\n",
       "          -1.62648852e-01,  1.47888683e-01,  2.22770771e-10,  6.14846787e-01,\n",
       "           1.91362271e-03,  5.31690759e-11,  4.65829887e-11,  6.07207665e-01]),\n",
       "   array([ 6.38347934e-01,  4.45152532e-01,  2.20141704e-01, -1.46667795e-01,\n",
       "           1.68745713e-01, -1.38636263e-01,  1.23275441e-10,  2.38547920e-11,\n",
       "           1.64011484e-10,  2.16178257e-11,  4.69782278e-10,  1.28221460e+00]),\n",
       "   array([ 6.65708054e-01,  6.28065420e-01,  2.09476332e-01,  3.29831956e-01,\n",
       "          -2.02204109e-01, -6.15359850e-02,  6.50704434e-14,  3.61337059e-01,\n",
       "           6.57186222e-14,  4.14806875e-14,  9.48409200e-14,  7.10640720e-01])],\n",
       "  [array([ 9.22234866e-01, -1.05615103e-01,  1.22823155e-01,  3.86444279e-02,\n",
       "           7.30785817e-02, -2.34582747e-01,  1.73830075e-12,  7.17148635e-02,\n",
       "           3.48102222e-12,  5.39956129e-02,  2.31696404e-11,  8.61994096e-01]),\n",
       "   array([ 1.00623511e+00,  1.62201666e-01,  4.62075113e-02, -2.52945377e-02,\n",
       "           4.46488126e-02,  1.52389669e-01,  9.69290775e-13,  4.24912743e-13,\n",
       "           3.74632258e-13,  5.48002579e-02,  9.71370592e-13,  1.17974851e+00]),\n",
       "   array([ 7.00559982e-02,  1.12299454e+00,  6.03530822e-01,  2.06186467e-01,\n",
       "          -7.18625331e-01,  7.18479365e-02,  2.17945070e-13,  1.34075190e-11,\n",
       "           9.52738716e-13,  5.90120426e-13,  7.37748620e-02,  9.53096428e-01]),\n",
       "   array([ 1.07144359e+00,  2.61108853e-03,  1.37086178e-01,  1.73282101e-02,\n",
       "           3.09412595e-02, -7.19539112e-03,  1.78921363e-10,  1.60566043e-10,\n",
       "           1.45399930e-10,  5.11564253e-02,  1.03015819e-10,  1.04732663e+00]),\n",
       "   array([ 1.00421870e+00, -3.07455959e-02,  1.72834321e-01,  5.61405261e-02,\n",
       "           2.19979982e-02, -1.69264325e-02,  1.14046240e-11,  9.37481375e-11,\n",
       "           3.37888120e-11,  3.26779358e-02,  2.52148916e-10,  1.05210884e+00]),\n",
       "   array([ 1.01416858e+00, -5.20980315e-02,  1.61697972e-01,  8.81279214e-03,\n",
       "          -3.73275895e-03, -2.82910324e-02,  1.74893783e-12,  9.55975617e-13,\n",
       "           6.68065445e-13,  3.66024828e-02,  3.96445330e-12,  1.04296242e+00]),\n",
       "   array([ 1.15247721e+00, -2.71915136e-02,  2.90171277e-02,  5.63808667e-02,\n",
       "           3.22217716e-02,  6.37395183e-03,  1.11159575e-12,  7.10598897e-13,\n",
       "           1.67680396e-01,  8.18035671e-02,  1.76720414e-14,  8.50111326e-01]),\n",
       "   array([ 4.84893828e-01,  8.89477941e-01,  7.62899078e-01, -2.58718401e-01,\n",
       "          -3.91111672e-01,  1.71098458e-02,  2.66689613e-13,  1.89520983e-12,\n",
       "           5.46275563e-12,  7.13107063e-02,  2.28743739e-13,  1.01656040e+00]),\n",
       "   array([ 1.06675693e+00,  2.05772636e-01,  8.62993716e-02, -1.37279757e-02,\n",
       "          -2.78087495e-02,  2.26759682e-01,  2.55979916e-14,  1.33478729e-14,\n",
       "           5.34163369e-14,  5.46478367e-02,  1.96067004e-13,  1.19736902e+00]),\n",
       "   array([ 1.23723223e+00, -1.82127158e-01,  2.59695345e-01,  8.41365332e-02,\n",
       "           4.74268263e-02, -6.08682425e-02,  7.40835562e-02,  3.46258998e-09,\n",
       "           6.25139035e-09,  9.10834288e-03,  7.71633018e-11,  9.20688480e-01]),\n",
       "   array([ 1.12448813e+00,  2.21034941e-03,  1.59440983e-01,  3.48055894e-02,\n",
       "          -1.57557201e-05, -2.79162404e-03,  1.81202657e-13,  1.81166000e-12,\n",
       "           3.61715574e-13,  7.85071134e-02,  2.27154844e-13,  1.00847457e+00]),\n",
       "   array([ 1.23364197e+00,  3.89025010e-02,  4.93422043e-03,  9.94241328e-02,\n",
       "          -3.38701201e-03, -3.13455027e-02,  2.96151972e-01,  6.11803834e-14,\n",
       "           2.70469511e-02,  1.89476725e-02,  2.70998782e-13,  7.51994250e-01]),\n",
       "   array([ 9.75059563e-02,  9.15775254e-01, -2.18889662e+00,  1.31721431e+00,\n",
       "           9.22379377e-01, -6.70481300e-02,  3.29999555e-13,  2.74292019e-12,\n",
       "           1.38046143e-12,  3.08493022e-13,  1.03032166e-01,  8.29905503e-01]),\n",
       "   array([ 1.11038788e+00,  1.32711902e-01,  1.96937645e-01,  7.12144196e-03,\n",
       "          -3.35199396e-02,  1.83174346e-01,  1.03120319e-09,  2.87096168e-10,\n",
       "           1.91243427e-09,  2.96918447e-02,  4.93584880e-10,  1.17321630e+00]),\n",
       "   array([ 8.84556021e-01,  4.56280157e-02, -1.41935597e-01,  3.54390282e-02,\n",
       "           2.04433274e-02,  1.69783678e-02,  5.49817715e-14,  1.84402059e-13,\n",
       "           2.12149762e-12,  7.83997794e-02,  1.41443691e-13,  1.00486483e+00]),\n",
       "   array([ 1.02992956e+00, -3.72234496e-03, -3.17843508e-02,  1.01266287e-01,\n",
       "          -6.19775210e-02, -5.67080740e-03,  8.80034788e-13,  1.72147982e-12,\n",
       "           4.48337903e-12,  6.62691081e-02,  1.40490086e-12,  1.01176081e+00]),\n",
       "   array([ 1.12517818e+00, -7.43583109e-02,  5.23046175e-01, -4.23072162e-01,\n",
       "          -6.76836235e-02,  8.00579247e-04,  6.02652236e-14,  7.44164970e-14,\n",
       "           4.57424441e-13,  1.29047351e-13,  7.69005188e-02,  1.00527446e+00]),\n",
       "   array([ 1.05193440e+00, -2.87941814e-02,  6.42377789e-02,  1.82545957e-02,\n",
       "           3.57116149e-02, -8.61462516e-02,  8.31841777e-13,  4.11539290e-12,\n",
       "           2.18163179e-12,  7.90599645e-02,  1.21273331e-13,  8.96663944e-01]),\n",
       "   array([ 4.71920637e-01,  3.44426941e-01, -3.60541168e-01,  2.87244916e-01,\n",
       "           2.71159028e-02, -5.03548421e-02,  5.69862149e-12,  1.14876699e-12,\n",
       "           4.48105373e-12,  1.07411656e-01,  8.03356431e-13,  8.26343529e-01]),\n",
       "   array([ 9.28923090e-01,  3.29908318e-01,  1.49953645e-01,  6.74950542e-02,\n",
       "          -1.41313671e-01, -5.86412269e-03,  2.96352608e-12,  1.74335796e-01,\n",
       "           3.71848011e-11,  1.61312561e-12,  2.91868264e-02,  8.41945290e-01])],\n",
       "  [array([ 4.41211814e-01,  5.72623438e-01, -3.14449341e-02,  1.65854611e-01,\n",
       "          -1.22825458e-01, -8.02877481e-02,  2.02588309e-10,  6.33157616e-11,\n",
       "           1.73509877e-09,  4.81822545e-02,  5.42061074e-11,  1.01988552e+00]),\n",
       "   array([ 3.65817271e-01,  5.88085575e-01, -5.88949668e-01,  3.90325808e-01,\n",
       "           1.94263034e-01, -9.27527814e-02,  7.21888094e-13,  8.36697163e-12,\n",
       "           2.79202343e-02,  2.48784447e-11,  1.07600843e-12,  1.01728343e+00]),\n",
       "   array([ 9.04831141e-01,  7.58427494e-02, -1.18285686e+00,  4.76160600e-01,\n",
       "           7.00926086e-01, -5.22341211e-02,  2.89113913e-13,  8.32891100e-13,\n",
       "           3.30088847e-02,  1.52293413e-12,  1.49154860e-12,  1.04386490e+00]),\n",
       "   array([ 4.53437253e-01,  5.69663183e-01,  9.42975973e-01, -5.63981623e-01,\n",
       "          -3.59860068e-01, -4.95795348e-03,  9.90895101e-12,  1.07711146e-11,\n",
       "           3.03605555e-02,  2.97912205e-11,  9.98088753e-12,  1.02332548e+00]),\n",
       "   array([-4.81182507e-02,  1.03492212e+00, -7.85067526e-01,  5.23306959e-01,\n",
       "           2.56758742e-01, -4.93886630e-03,  9.86260456e-10,  2.19587595e-10,\n",
       "           7.64642182e-02,  2.09725329e-10,  1.85937120e-09,  1.00083923e+00]),\n",
       "   array([ 6.57365806e-01,  3.74426836e-01, -6.84560791e-01,  4.58638174e-01,\n",
       "           2.40450453e-01, -5.74037254e-02,  2.81212749e-12,  1.24337344e-11,\n",
       "           4.01058908e-02,  5.22143650e-11,  2.45131526e-12,  9.35419553e-01]),\n",
       "   array([ 3.83485481e-02,  1.03361520e+00, -4.32773489e-02,  1.93317380e-01,\n",
       "          -1.22831816e-01, -6.17640548e-02,  2.18384060e-01,  1.65775840e-10,\n",
       "           4.00922777e-03,  1.23446461e-09,  1.60760203e-10,  8.10754006e-01]),\n",
       "   array([ 1.24619984e-01,  9.43141034e-01,  1.49185493e-01,  9.44070620e-02,\n",
       "          -2.09292206e-01, -1.62388222e-02,  1.85134108e-11,  1.03560650e-11,\n",
       "           4.27605988e-10,  3.31525009e-02,  2.18000003e-11,  1.02641958e+00]),\n",
       "   array([ 5.90516625e-01,  4.49694250e-01, -4.73596186e-01,  2.19306723e-01,\n",
       "           2.82095286e-01, -1.00384671e-01,  5.46989834e-12,  1.09923772e-12,\n",
       "           4.17328587e-02,  9.05610458e-13,  2.13696380e-11,  1.00204412e+00]),\n",
       "   array([-1.59324184e-01,  1.04325147e+00, -1.27789205e+00,  8.92577562e-01,\n",
       "           3.33867397e-01, -6.38030615e-03,  2.14824760e-14,  1.47138168e-14,\n",
       "           1.10639131e-14,  2.17726097e-14,  5.33790227e-14,  1.04044756e+00]),\n",
       "   array([ 9.38821337e-03,  9.66652414e-01, -1.18854405e+00,  7.31919947e-01,\n",
       "           4.51707226e-01, -2.50425048e-02,  1.12415276e-11,  4.84079319e-12,\n",
       "           2.04864562e-11,  6.74917890e-02,  4.91499941e-12,  1.00913551e+00]),\n",
       "   array([ 9.28030114e-01,  5.27008153e-02, -1.18715961e+00,  4.85794860e-01,\n",
       "           6.95598196e-01, -5.73655992e-02,  9.88506000e-10,  4.84434529e-10,\n",
       "           3.29027660e-02,  1.20301542e-09,  2.32809348e-08,  1.03970627e+00]),\n",
       "   array([-1.37672440e-01,  1.08908838e+00, -5.79079228e-01,  5.95500258e-01,\n",
       "          -2.86294352e-02,  1.07540255e-02,  3.31047704e-11,  1.00713867e-11,\n",
       "           7.02635168e-02,  2.73567228e-10,  1.27564933e-10,  1.00550655e+00]),\n",
       "   array([ 4.36843126e-01,  5.78662518e-01, -7.53447938e-01,  3.53409928e-01,\n",
       "           4.22835939e-01, -1.22588816e-01,  1.24514992e-13,  1.31959610e-14,\n",
       "           6.21515164e-14,  7.47022024e-15,  5.29455150e-02,  1.00075484e+00]),\n",
       "   array([ 7.00285598e-01,  3.26864467e-01, -5.42826130e-01,  4.55381556e-01,\n",
       "           9.83079899e-02, -5.33514223e-02,  1.00277433e-12,  4.01691707e-13,\n",
       "           7.25392532e-12,  5.33865948e-02,  6.32044407e-13,  9.31609140e-01]),\n",
       "   array([ 5.69405545e-01,  4.00919073e-01, -3.09115762e-01,  9.70030340e-03,\n",
       "           2.99043755e-01, -9.70247399e-02,  5.29601500e-13,  1.16307745e-12,\n",
       "           2.94280063e-12,  6.54409624e-13,  4.72706705e-02,  1.01606085e+00]),\n",
       "   array([-2.33118324e-01,  1.09372759e+00, -3.91105892e-01,  5.46910234e-01,\n",
       "          -2.45039929e-01,  2.31401938e-02,  1.37374499e-13,  2.50906899e-13,\n",
       "           7.03696870e-02,  3.93962915e-13,  1.71920097e-12,  1.00610878e+00]),\n",
       "   array([ 6.22557906e-01,  3.41820524e-01, -5.78062670e-01,  1.99121829e-01,\n",
       "           3.78009834e-01, -1.01080152e-01,  6.43467561e-14,  8.20845636e-15,\n",
       "           2.91068059e-02,  1.41822171e-14,  8.63324378e-14,  1.01148997e+00]),\n",
       "   array([-5.27459053e-01,  1.60810783e+00, -2.93181603e+00,  9.97087283e-01,\n",
       "           2.00564052e+00,  8.18595644e-03,  1.83102496e-11,  2.09643149e-09,\n",
       "           2.96738243e-10,  1.10468181e-11,  6.04206078e-02,  8.21975888e-01]),\n",
       "   array([ 5.45602056e-02,  1.02629421e+00, -9.62954153e-01,  2.81352724e-01,\n",
       "           6.96337635e-01, -4.69409676e-02,  4.61263741e-13,  1.19255438e-01,\n",
       "           4.61990827e-12,  2.31191892e-12,  3.82608775e-11,  7.94745306e-01])],\n",
       "  [array([ 3.11140503e-01,  6.54818534e-01, -1.02738796e-01,  1.53153508e-01,\n",
       "          -3.86359409e-02, -1.92660189e-02,  8.56516153e-12,  1.49273769e-10,\n",
       "           1.79189235e-11,  1.00973491e-10,  6.12372758e-02,  7.86979472e-01]),\n",
       "   array([ 5.23699651e-02,  9.25889980e-01,  4.88511572e-02,  9.02177237e-02,\n",
       "          -1.40209024e-01, -7.91959285e-03,  8.27196905e-10,  1.70395327e-02,\n",
       "           2.70382195e-02,  4.78390924e-10,  9.65722960e-10,  8.18974594e-01]),\n",
       "   array([ 9.22430036e-01,  4.64350922e-02,  4.51502678e-01, -6.78254760e-02,\n",
       "          -3.88561854e-01,  1.80343105e-04,  4.59388313e-13,  3.40016506e-02,\n",
       "           2.23297319e-02,  3.28356064e-13,  4.19316899e-12,  1.02124545e+00]),\n",
       "   array([ 9.37477523e-01,  3.45297940e-02,  2.76591978e+00, -1.10500782e+00,\n",
       "          -1.65291853e+00, -1.98364808e-03,  1.42978122e-10,  1.28957188e-10,\n",
       "           3.97277704e-10,  2.50793408e-11,  4.25325861e-02,  1.00618613e+00]),\n",
       "   array([ 7.26335740e-01,  2.43636364e-01, -9.62247418e-01,  5.61173120e-01,\n",
       "           3.98131752e-01, -7.59287431e-03,  1.62235635e-10,  1.61958618e-10,\n",
       "           7.54379230e-12,  1.07914440e-10,  2.30231744e-10,  1.02641742e+00]),\n",
       "   array([ 3.99399492e-01,  6.00634425e-01,  1.24272060e+00, -8.05087112e-01,\n",
       "          -4.17384803e-01,  7.87258112e-04,  4.63145017e-13,  8.46220298e-14,\n",
       "           7.54696987e-11,  4.00254735e-02,  6.20826217e-13,  8.96632397e-01]),\n",
       "   array([ 7.28879987e-01,  2.58954473e-01, -3.53215291e-01,  9.41802514e-02,\n",
       "           2.65104136e-01, -2.34127384e-02,  1.12704462e-14,  1.38888462e-14,\n",
       "           1.78609601e-13,  6.41039942e-14,  6.63188135e-02,  8.44753030e-01]),\n",
       "   array([ 1.20420204e+00, -2.11826034e-01, -8.61802552e-01,  2.78582000e-01,\n",
       "           5.93504189e-01, -1.88461169e-04,  3.70593511e-12,  2.76903159e-12,\n",
       "           2.13582313e-11,  2.96374688e-02,  6.09298366e-12,  1.01545756e+00]),\n",
       "   array([ 3.03639350e-02,  9.14676451e-01, -2.60148933e-01,  4.93824209e-01,\n",
       "          -2.41747812e-01, -1.03123797e-02,  1.43630486e-14,  8.43563035e-03,\n",
       "           2.34996017e-13,  5.18285609e-14,  1.28318882e-16,  8.31530406e-01]),\n",
       "   array([ 7.02665512e-01,  2.96248907e-01,  2.54068249e-01, -1.49614754e-02,\n",
       "          -2.27841324e-01, -2.01433946e-02,  3.48149629e-14,  2.63515623e-13,\n",
       "           2.81138042e-13,  1.04167928e-13,  4.32608772e-02,  8.69300663e-01]),\n",
       "   array([ 8.93567197e-01,  9.46040602e-02,  2.46008786e+00, -1.12114742e+00,\n",
       "          -1.33627722e+00, -4.17567533e-05,  7.30723404e-12,  1.23585662e-11,\n",
       "           5.47917051e-11,  1.22786626e-11,  3.58292482e-02,  1.00763795e+00]),\n",
       "   array([ 3.06903377e-01,  7.48809051e-01, -4.17424620e-01,  2.63249277e-01,\n",
       "           1.43966207e-01,  7.48974553e-03,  1.54033033e-10,  2.22429335e-10,\n",
       "           2.46681803e-09,  2.38986528e-10,  4.55926795e-02,  9.97132160e-01]),\n",
       "   array([ 4.65948450e-01,  4.81287349e-01, -9.31144912e-01,  4.24996038e-01,\n",
       "           4.99422452e-01, -2.60210268e-02,  7.89220543e-13,  2.29534491e-13,\n",
       "           1.96414759e-12,  5.87028190e-02,  6.71325169e-13,  9.01351848e-01]),\n",
       "   array([ 3.01350062e-01,  7.98699842e-01, -8.67071670e-01,  4.13919304e-01,\n",
       "           3.21311170e-01, -1.24523521e-02,  7.78920770e-13,  1.07488285e-11,\n",
       "           1.11645801e-12,  2.01659977e-13,  3.16137939e-13,  8.29657726e-01]),\n",
       "   array([ 4.49916812e-01,  4.69345608e-01,  4.86239610e-01, -3.85529105e-01,\n",
       "          -1.20244205e-01,  3.25146709e-03,  3.22214521e-11,  4.69829043e-11,\n",
       "           2.77281262e-02,  5.18579501e-10,  1.09144418e-10,  9.09014284e-01]),\n",
       "   array([ 5.32286318e-01,  6.10265377e-01, -8.05692582e-01,  4.51010484e-01,\n",
       "           2.32344292e-01, -8.02792759e-02,  1.81307482e-14,  3.52875260e-02,\n",
       "           2.74080222e-14,  1.40285478e-14,  4.52894454e-13,  7.61987842e-01]),\n",
       "   array([-1.49512577e-02,  9.58168559e-01,  6.79259369e-01, -1.37751780e-01,\n",
       "          -5.74078286e-01,  5.50758996e-03,  5.30257227e-11,  8.78386178e-02,\n",
       "           2.33513262e-11,  1.39756738e-11,  4.35224124e-11,  7.85201416e-01]),\n",
       "   array([ 3.86612649e-01,  6.62187878e-01, -7.36556734e-01,  3.30966253e-01,\n",
       "           3.33848721e-01, -8.73155156e-02,  2.27009963e-13,  6.38841668e-13,\n",
       "           1.69528211e-13,  7.77466352e-14,  7.38219022e-13,  8.06818609e-01]),\n",
       "   array([ 7.87310175e-01,  2.02323853e-01,  2.58560790e-02,  1.95188442e-02,\n",
       "          -4.30198314e-02, -1.64179990e-02,  7.05551225e-12,  9.68351498e-13,\n",
       "           2.44033167e-02,  3.81332813e-02,  6.48136226e-12,  8.39996019e-01]),\n",
       "   array([ 1.77170165e-02,  9.89991849e-01,  1.70264984e-02,  1.27076651e-02,\n",
       "          -2.25858944e-02, -5.23580972e-05,  9.10253967e-15,  3.75447884e-14,\n",
       "           4.55326819e-14,  3.57352771e-14,  3.99164601e-02,  9.36361965e-01])],\n",
       "  [array([ 7.61015570e-01,  2.53079727e-01, -4.56593507e-01,  2.13674016e-01,\n",
       "           1.74835375e-01,  1.08647592e-02,  1.00491896e-11,  3.61303210e-11,\n",
       "           5.08944691e-12,  1.24466781e-11,  4.44037493e-12,  8.00009929e-01]),\n",
       "   array([ 1.95551886e-01,  7.62984948e-01, -1.52538336e-01,  1.09466309e-01,\n",
       "           3.63315393e-02, -2.08892177e-02,  3.45034952e-11,  2.44428786e-03,\n",
       "           3.04790573e-09,  3.60546094e-10,  1.37650541e-11,  7.78868560e-01]),\n",
       "   array([ 1.95915584e-01,  7.71075049e-01, -1.76113490e-01,  1.24305439e-01,\n",
       "           4.47551678e-02, -2.15445016e-02,  1.03229347e-11,  1.38143836e-02,\n",
       "           6.06925429e-11,  3.57331914e-11,  2.39016455e-11,  7.69089682e-01]),\n",
       "   array([ 1.09805434e+00, -1.05492424e-01,  9.16434171e-01, -7.55016695e-01,\n",
       "          -2.19205401e-01,  1.14622038e-02,  9.63922169e-02,  2.17095486e-12,\n",
       "           8.36111773e-12,  7.98764996e-03,  1.30516607e-12,  7.40284926e-01]),\n",
       "   array([ 1.04183838e+00, -3.64138227e-02,  7.93377333e-02, -4.77463067e-02,\n",
       "          -3.15902427e-02,  4.69927474e-03,  1.37833656e-11,  1.64889634e-11,\n",
       "           1.35942973e-10,  6.72382516e-02,  5.48084985e-12,  7.88656967e-01]),\n",
       "   array([ 7.39971132e-01,  2.34436930e-01,  1.76823387e-01, -2.00072775e-01,\n",
       "           1.77322201e-02, -8.94731566e-03,  7.30819359e-02,  7.43480060e-12,\n",
       "           4.08433806e-11,  5.13911347e-11,  3.38237365e-11,  7.94524181e-01]),\n",
       "   array([ 1.10201388e+00, -1.20009536e-01,  3.91241331e-02,  1.18435785e-01,\n",
       "          -2.00827576e-01,  5.59143292e-03,  6.59883987e-02,  5.83354485e-13,\n",
       "           1.33548207e-12,  3.63410765e-13,  6.55932685e-14,  7.75003650e-01]),\n",
       "   array([ 7.41268784e-01,  3.61667293e-01, -6.32374611e-01,  2.76354012e-01,\n",
       "           2.37953618e-01, -6.19484579e-02,  2.64415780e-11,  5.17759382e-12,\n",
       "           1.45176856e-10,  4.19466531e-11,  3.72863083e-12,  7.70180914e-01]),\n",
       "   array([ 7.52006653e-01,  2.14223193e-01, -1.54545408e-01,  3.18179192e-02,\n",
       "           1.16040525e-01, -2.03837522e-02,  1.61391854e-02,  7.03599640e-14,\n",
       "           3.35550560e-13,  5.57839189e-15,  7.23730427e-14,  7.65264750e-01]),\n",
       "   array([ 6.99057391e-01,  3.33183177e-01, -1.68364147e-01,  6.99973763e-04,\n",
       "           1.10561104e-01, -1.17183854e-02,  5.20678971e-02,  7.89118882e-12,\n",
       "           5.01066540e-11,  3.03864947e-12,  9.36184988e-13,  7.81398994e-01]),\n",
       "   array([ 2.32234554e-01,  7.42684451e-01,  1.37260555e-01,  2.31880395e-02,\n",
       "          -1.94461436e-01,  1.30846851e-02,  5.85207854e-15,  1.62247961e-12,\n",
       "           1.23700191e-13,  5.16815243e-15,  5.72874659e-15,  8.28963895e-01]),\n",
       "   array([ 6.75783004e-01,  2.88321480e-01, -1.26086029e+00,  4.68034862e-01,\n",
       "           7.67407051e-01,  1.22326448e-02,  4.37645791e-11,  1.11328831e-10,\n",
       "           2.39056350e-02,  1.52062695e-10,  2.04125722e-09,  9.13078064e-01]),\n",
       "   array([ 2.11902920e-01,  7.86800783e-01, -2.18644645e-01,  1.55869562e-01,\n",
       "           6.49399673e-02, -2.46073056e-02,  3.93323635e-10,  1.51077463e-02,\n",
       "           3.13170946e-09,  1.00979851e-10,  1.04204268e-10,  7.71389940e-01]),\n",
       "   array([ 3.11558913e-01,  6.44581149e-01,  5.13795889e-01, -3.14686204e-02,\n",
       "          -5.19549721e-01,  3.16285739e-02,  6.04127232e-11,  2.62004479e-02,\n",
       "           3.60791543e-10,  1.79348818e-11,  1.97931945e-11,  8.50823042e-01]),\n",
       "   array([ 9.90874675e-01,  4.52811898e-03,  9.99469834e-02, -8.05370608e-02,\n",
       "          -2.48968505e-02, -1.05816399e-03,  5.95184164e-10,  9.30368405e-11,\n",
       "           4.06063935e-11,  1.22102785e-10,  2.60710528e-10,  8.35938418e-01]),\n",
       "   array([ 8.90814614e-01,  8.73849889e-02,  3.46860464e-01, -2.42394074e-01,\n",
       "          -1.12753668e-01, -3.42241468e-03,  6.12873621e-02,  8.42371945e-11,\n",
       "           3.91803838e-12,  2.48726880e-11,  9.55072006e-12,  8.10443641e-01]),\n",
       "   array([ 1.00073339e+00,  4.67616696e-02, -1.83164832e-01,  9.32541098e-02,\n",
       "           4.21824678e-02,  1.06741425e-02,  3.71579691e-02,  1.16951317e-13,\n",
       "           1.71282603e-13,  3.50627491e-15,  1.89936341e-14,  8.14040525e-01]),\n",
       "   array([ 6.90471365e-01,  3.33680675e-01, -4.02671304e-01,  2.15758664e-01,\n",
       "           1.67058042e-01, -2.90861841e-02,  3.82791149e-02,  9.43038521e-13,\n",
       "           4.82365944e-12,  5.79940547e-12,  7.59587026e-13,  7.93536273e-01]),\n",
       "   array([ 1.06966654e+00, -5.95168872e-02, -6.96374439e-01,  4.21662122e-01,\n",
       "           2.70177539e-01, -1.47727049e-03,  1.62547659e-10,  2.30484014e-10,\n",
       "           8.17756508e-10,  1.36979323e-10,  3.31454356e-02,  8.92693287e-01]),\n",
       "   array([-6.33789946e-02,  9.96951289e-01,  2.77023629e-01, -6.99693019e-02,\n",
       "          -1.65379871e-01, -1.54109527e-02,  5.67673507e-13,  4.82871339e-12,\n",
       "           3.13347591e-13,  4.39404207e-12,  1.89432641e-12,  8.22460181e-01])],\n",
       "  [array([ 7.64067809e-01,  2.90562907e-01, -6.28673197e-01,  2.85557912e-01,\n",
       "           2.57654180e-01,  1.19962594e-02,  2.14547896e-02,  6.38423956e-11,\n",
       "           1.60675570e-11,  1.98097886e-11,  2.18606802e-11,  7.74449681e-01]),\n",
       "   array([ 6.05627905e-01,  4.26710029e-01, -8.57723955e-01,  4.72221468e-01,\n",
       "           3.37459333e-01, -1.44953130e-02,  1.01574660e-10,  4.81548696e-10,\n",
       "           5.04200612e-11,  3.27436481e-11,  3.03499841e-10,  8.15456203e-01]),\n",
       "   array([ 4.44643700e-01,  6.34823615e-01, -5.78210497e-01,  2.97314125e-01,\n",
       "           2.02384819e-01,  1.07633153e-02,  8.75519205e-11,  2.43221503e-11,\n",
       "           2.88102158e-12,  1.23510455e-11,  5.92131792e-12,  8.10563955e-01]),\n",
       "   array([ 8.54497688e-01,  1.80069687e-01, -5.01875657e-01,  2.46094176e-01,\n",
       "           1.82226901e-01,  1.69952633e-02,  3.89250813e-12,  1.22898145e-11,\n",
       "           4.82942778e-13,  1.64353400e-12,  7.20294214e-13,  8.17168685e-01]),\n",
       "   array([ 5.24156353e-01,  4.72575746e-01, -1.95010443e+00,  1.07289413e+00,\n",
       "           8.41096976e-01,  5.93370943e-03,  2.87581681e-02,  8.55919023e-11,\n",
       "           1.30108712e-11,  1.04477317e-10,  7.55354638e-12,  7.81247840e-01]),\n",
       "   array([ 9.99999996e-01,  3.69253517e-09, -1.30332145e-09, -7.40652872e-10,\n",
       "           1.91269400e-09,  3.00861558e-11,  1.59538039e-14,  6.49487214e-15,\n",
       "           1.03587953e-13,  1.50933942e-14,  1.95458146e-15,  8.00009929e-01]),\n",
       "   array([ 1.00000000e+00,  2.31805686e-11, -2.63495892e-10,  2.74209100e-10,\n",
       "          -6.50004495e-11,  3.77844422e-11,  1.13881866e-10,  1.69927120e-11,\n",
       "           5.71362761e-12,  2.10248256e-11,  1.25750946e-11,  8.00009929e-01]),\n",
       "   array([ 9.99999998e-01,  2.53003707e-09, -3.36237920e-07,  1.76155107e-07,\n",
       "           1.60347583e-07, -1.96440419e-10,  5.81259271e-12,  5.26299609e-13,\n",
       "           1.21933058e-13,  3.01114505e-13,  1.56906963e-13,  8.00009929e-01]),\n",
       "   array([ 4.02463891e-01,  6.19670837e-01, -8.72973143e-01,  4.29591021e-01,\n",
       "           4.04756802e-01, -6.36185287e-03,  2.64235713e-11,  1.97344588e-11,\n",
       "           1.14399406e-11,  1.54166957e-11,  9.86597188e-12,  8.10445864e-01]),\n",
       "   array([ 9.78881070e-01,  1.88629535e-02, -6.80061899e-02,  6.36062627e-02,\n",
       "           7.07613748e-03, -3.72087357e-04,  2.63159433e-14,  5.73413726e-14,\n",
       "           1.23195031e-13,  1.40492018e-13,  2.47231934e-14,  7.79640550e-01]),\n",
       "   array([ 7.37303438e-01,  3.04053741e-01, -7.46903395e-01,  2.93111615e-01,\n",
       "           3.85214474e-01,  1.76731451e-02,  2.12300093e-10,  1.14409992e-09,\n",
       "           7.14648502e-11,  9.71054296e-11,  1.50748815e-10,  8.00425621e-01]),\n",
       "   array([ 2.69724366e-01,  7.26264772e-01, -2.18097598e-01,  1.36298293e-01,\n",
       "           6.91410881e-02, -2.20395252e-02,  2.54917075e-12,  3.99505018e-04,\n",
       "           3.84131220e-14,  3.61626101e-14,  3.48802065e-13,  8.17100132e-01]),\n",
       "   array([ 9.91714900e-01,  5.89606419e-03, -9.09209721e-03,  3.12625900e-03,\n",
       "           5.62458056e-03,  1.98169361e-04,  8.43370091e-13,  1.31779104e-12,\n",
       "           5.40844048e-14,  1.87063643e-14,  1.74400515e-13,  7.80574434e-01]),\n",
       "   array([ 9.89965270e-01,  8.31643748e-03, -3.78234453e-02,  3.71238325e-02,\n",
       "           2.44361913e-03, -1.52827439e-04,  1.65883251e-12,  7.82540343e-13,\n",
       "           8.24598713e-13,  1.34786904e-13,  5.21249285e-13,  7.79794149e-01]),\n",
       "   array([ 7.80541670e-01,  2.37567758e-01, -5.39774745e-01,  2.52622330e-01,\n",
       "           2.10892540e-01,  1.18535469e-02,  4.63348532e-12,  1.03499232e-11,\n",
       "           2.30773316e-12,  5.82043360e-12,  1.95389330e-12,  8.01136004e-01]),\n",
       "   array([ 1.00293772e+00, -2.69716670e-03, -8.49288286e-04,  1.74806768e-03,\n",
       "          -7.74799318e-04,  7.97320870e-05,  2.64675390e-13,  2.23053159e-03,\n",
       "           2.99156256e-14,  8.57285915e-15,  1.47944370e-14,  7.78965844e-01]),\n",
       "   array([ 1.25028813e+00, -2.41501504e-01,  4.42449970e-01, -2.69886214e-01,\n",
       "          -1.83272199e-01,  2.84647156e-02,  8.62015626e-13,  9.06857530e-13,\n",
       "           2.36357748e-12,  4.51424560e-13,  5.02923627e-13,  7.96130192e-01]),\n",
       "   array([ 9.88457816e-01,  9.54619468e-03, -3.54940659e-02,  3.40670508e-02,\n",
       "           3.51089867e-03, -1.62239794e-04,  1.54799607e-13,  2.05551582e-13,\n",
       "           3.19131294e-12,  1.18667014e-13,  3.09913808e-13,  7.79776858e-01]),\n",
       "   array([ 1.06626183e+00, -6.95379366e-02, -1.22172503e-01,  1.08659697e-01,\n",
       "           6.93648851e-03,  6.50510712e-03,  7.91566693e-02,  4.70329938e-11,\n",
       "           2.41962294e-10,  6.36767492e-03,  8.88226146e-11,  7.40512372e-01]),\n",
       "   array([ 1.12102967e+00, -1.24111767e-01, -2.18241726e+00,  1.04604385e+00,\n",
       "           1.13941653e+00, -4.63811117e-03,  1.75670400e-12,  7.04107508e-02,\n",
       "           1.38831409e-12,  6.02188214e-13,  1.14455434e-12,  7.69143029e-01])]]}"
      ]
     },
     "execution_count": 5,
     "metadata": {},
     "output_type": "execute_result"
    }
   ],
   "source": [
    "model.predict_history"
   ]
  },
  {
   "cell_type": "markdown",
   "metadata": {},
   "source": [
    "# Predict and Visualise losses"
   ]
  },
  {
   "cell_type": "code",
   "execution_count": 5,
   "metadata": {},
   "outputs": [
    {
     "data": {
      "image/png": "[encoded data removed]",
      "text/plain": [
       "<Figure size 432x288 with 1 Axes>"
      ]
     },
     "metadata": {
      "needs_background": "light"
     },
     "output_type": "display_data"
    }
   ],
   "source": [
    "plt.title('GMDH history')\n",
    "plt.plot(history['validation_loss'], label='validation')\n",
    "plt.plot(history['train_loss'], label='train')\n",
    "plt.xlabel('layer')\n",
    "plt.ylabel('loss')\n",
    "plt.legend()\n",
    "plt.show()"
   ]
  },
  {
   "cell_type": "code",
   "execution_count": 6,
   "metadata": {},
   "outputs": [],
   "source": [
    "prediction = model.predict(X_test)\n",
    "prediction_train = model.predict(X_train)"
   ]
  },
  {
   "cell_type": "code",
   "execution_count": 7,
   "metadata": {},
   "outputs": [
    {
     "name": "stdout",
     "output_type": "stream",
     "text": [
      "Test MSE: 0.43265553736951806\n",
      "Train MSE: 94.08146264586175\n"
     ]
    }
   ],
   "source": [
    "print(f\"Test MSE: {MSE(y_test, prediction)[0]}\")\n",
    "print(f\"Train MSE: {MSE(y_train, prediction_train)[0]}\")"
   ]
  },
  {
   "cell_type": "code",
   "execution_count": 8,
   "metadata": {},
   "outputs": [
    {
     "data": {
      "image/png": "[encoded data removed]",
      "text/plain": [
       "<Figure size 432x288 with 1 Axes>"
      ]
     },
     "metadata": {
      "needs_background": "light"
     },
     "output_type": "display_data"
    }
   ],
   "source": [
    "plt.title('Validation Target')\n",
    "plt.plot(prediction, label='prediction')\n",
    "plt.plot(y_test, label='ground truth')\n",
    "plt.legend()\n",
    "plt.show()"
   ]
  },
  {
   "cell_type": "code",
   "execution_count": 9,
   "metadata": {},
   "outputs": [
    {
     "data": {
      "image/png": "[encoded data removed]",
      "text/plain": [
       "<Figure size 432x288 with 1 Axes>"
      ]
     },
     "metadata": {
      "needs_background": "light"
     },
     "output_type": "display_data"
    },
    {
     "data": {
      "image/png": "[encoded data removed]",
      "text/plain": [
       "<Figure size 432x288 with 1 Axes>"
      ]
     },
     "metadata": {
      "needs_background": "light"
     },
     "output_type": "display_data"
    }
   ],
   "source": [
    "plt.title('Validation Prediction Distribution')\n",
    "plt.hist(prediction)\n",
    "plt.show()\n",
    "\n",
    "plt.title('Validation Target Distribution')\n",
    "plt.hist(y_test)\n",
    "plt.show()"
   ]
  },
  {
   "cell_type": "code",
   "execution_count": null,
   "metadata": {},
   "outputs": [],
   "source": []
  }
 ],
 "metadata": {
  "kernelspec": {
   "display_name": "Python 3 (ipykernel)",
   "language": "python",
   "name": "python3"
  },
  "language_info": {
   "codemirror_mode": {
    "name": "ipython",
    "version": 3
   },
   "file_extension": ".py",
   "mimetype": "text/x-python",
   "name": "python",
   "nbconvert_exporter": "python",
   "pygments_lexer": "ipython3",
   "version": "3.9.6"
  }
 },
 "nbformat": 4,
 "nbformat_minor": 4
}
