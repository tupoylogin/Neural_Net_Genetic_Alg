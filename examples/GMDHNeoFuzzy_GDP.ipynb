{
 "cells": [
  {
   "cell_type": "code",
   "execution_count": 1,
   "metadata": {},
   "outputs": [],
   "source": [
    "from copy import deepcopy\n",
    "from itertools import combinations\n",
    "import typing as tp\n",
    "\n",
    "import numpy as np\n",
    "import pandas as pd\n",
    "from numpy.linalg import lstsq\n",
    "from scipy.optimize import linprog\n",
    "\n",
    "from matplotlib import pyplot as plt\n",
    "from citk.layer import Dense, NeoFuzzyLayer\n",
    "from citk.model import FFN, GMDH\n",
    "from citk.functions import ReLU, Linear, BellMembership, GaussianMembership, Poly\n",
    "from citk.losses import MSE, FMSE\n",
    "from citk.optimisers import SGDOptimizer\n",
    "\n",
    "from utils import seed_everything, normalize_df, create_lags\n",
    "\n",
    "%matplotlib inline"
   ]
  },
  {
   "cell_type": "markdown",
   "metadata": {},
   "source": [
    "# Data"
   ]
  },
  {
   "cell_type": "code",
   "execution_count": 2,
   "metadata": {},
   "outputs": [
    {
     "name": "stderr",
     "output_type": "stream",
     "text": [
      "/Users/dmytroandrosov/Documents/citk/Neural_Net_Genetic_Alg/examples/utils.py:114: SettingWithCopyWarning: \n",
      "A value is trying to be set on a copy of a slice from a DataFrame.\n",
      "Try using .loc[row_indexer,col_indexer] = value instead\n",
      "\n",
      "See the caveats in the documentation: https://pandas.pydata.org/pandas-docs/stable/user_guide/indexing.html#returning-a-view-versus-a-copy\n",
      "  train_df[f'{col}_{sh}'] = train_df.shift(sh)[col]\n",
      "/Users/dmytroandrosov/Documents/citk/Neural_Net_Genetic_Alg/examples/utils.py:115: SettingWithCopyWarning: \n",
      "A value is trying to be set on a copy of a slice from a DataFrame.\n",
      "Try using .loc[row_indexer,col_indexer] = value instead\n",
      "\n",
      "See the caveats in the documentation: https://pandas.pydata.org/pandas-docs/stable/user_guide/indexing.html#returning-a-view-versus-a-copy\n",
      "  test_df[f'{col}_{sh}'] = test_df.shift(sh)[col]\n"
     ]
    }
   ],
   "source": [
    "RANDOM_SEED = 42\n",
    "N_LAGS = 2\n",
    "INITIAL_TEST_LEN = 8\n",
    "\n",
    "seed_everything(RANDOM_SEED)\n",
    "\n",
    "data = pd.read_csv('../data/data.csv', encoding='cp1251', sep=';', decimal=',').dropna()\n",
    "\n",
    "train_df, test_df = data.iloc[:-INITIAL_TEST_LEN], data.iloc[-INITIAL_TEST_LEN:]\n",
    "\n",
    "train_df, test_df = create_lags(\n",
    "    train_df, test_df, \n",
    "    train_df.columns.tolist(), \n",
    "    N_LAGS\n",
    ")\n",
    "\n",
    "y_col = 'ІСЦ (+1)'\n",
    "X_col = train_df.columns.tolist()\n",
    "X_col.remove(y_col)\n",
    "\n",
    "train_df, test_df = normalize_df(train_df, test_df, X_col)\n",
    "\n",
    "X_train = train_df[X_col].values\n",
    "X_test = test_df[X_col].values\n",
    "y_train = train_df[y_col].values[..., np.newaxis]\n",
    "y_test = test_df[y_col].values[..., np.newaxis]"
   ]
  },
  {
   "cell_type": "markdown",
   "metadata": {},
   "source": [
    "# GMDH "
   ]
  },
  {
   "cell_type": "code",
   "execution_count": 34,
   "metadata": {},
   "outputs": [],
   "source": [
    "model = GMDH(\n",
    "            method_type='neo_fuzzy', \n",
    "            loss=MSE,\n",
    "            num_rules=6,\n",
    "            confidence=0.9,\n",
    "            num_sgd_rounds=100\n",
    "        )"
   ]
  },
  {
   "cell_type": "code",
   "execution_count": 35,
   "metadata": {},
   "outputs": [
    {
     "data": {
      "application/vnd.jupyter.widget-view+json": {
       "model_id": "cf9490464d964714adbcf9c65c016cf4",
       "version_major": 2,
       "version_minor": 0
      },
      "text/plain": [
       "Training :   0%|          | 0/10 [00:00<?, ?it/s]"
      ]
     },
     "metadata": {},
     "output_type": "display_data"
    },
    {
     "data": {
      "application/vnd.jupyter.widget-view+json": {
       "model_id": "71279818ca9a4b39ac273a2d70fe8adf",
       "version_major": 2,
       "version_minor": 0
      },
      "text/plain": [
       "One fit:   0%|          | 0/946 [00:00<?, ?it/s]"
      ]
     },
     "metadata": {},
     "output_type": "display_data"
    },
    {
     "name": "stdout",
     "output_type": "stream",
     "text": [
      "Layer: 0. Metric: 0.20116973596353663\n"
     ]
    },
    {
     "data": {
      "application/vnd.jupyter.widget-view+json": {
       "model_id": "2c1bc90285a54c0fb63c74c18159c2d0",
       "version_major": 2,
       "version_minor": 0
      },
      "text/plain": [
       "One fit:   0%|          | 0/435 [00:00<?, ?it/s]"
      ]
     },
     "metadata": {},
     "output_type": "display_data"
    },
    {
     "name": "stdout",
     "output_type": "stream",
     "text": [
      "Layer: 1. Metric: 3.4769071339156845\n"
     ]
    }
   ],
   "source": [
    "model, history  = model.fit(\n",
    "    (X_train, y_train),\n",
    "    (X_test, y_test),\n",
    "    max_gmdh_layers=10,\n",
    "    n_best_to_take=30,\n",
    "    verbose=True\n",
    ")"
   ]
  },
  {
   "cell_type": "markdown",
   "metadata": {},
   "source": [
    "# Predict and Visualise losses"
   ]
  },
  {
   "cell_type": "code",
   "execution_count": 36,
   "metadata": {},
   "outputs": [
    {
     "data": {
      "image/png": "[encoded data removed]",
      "text/plain": [
       "<Figure size 432x288 with 1 Axes>"
      ]
     },
     "metadata": {
      "needs_background": "light"
     },
     "output_type": "display_data"
    }
   ],
   "source": [
    "plt.title('GMDH history')\n",
    "plt.plot(history['validation_loss'], label='validation')\n",
    "plt.plot(history['train_loss'], label='train')\n",
    "plt.xlabel('layer')\n",
    "plt.ylabel('loss')\n",
    "plt.legend()\n",
    "plt.show()"
   ]
  },
  {
   "cell_type": "code",
   "execution_count": 37,
   "metadata": {},
   "outputs": [],
   "source": [
    "prediction = model.predict(X_test)\n",
    "prediction_train = model.predict(X_train)"
   ]
  },
  {
   "cell_type": "code",
   "execution_count": 38,
   "metadata": {},
   "outputs": [
    {
     "name": "stdout",
     "output_type": "stream",
     "text": [
      "Test MSE: 0.20116973596353663\n",
      "Train MSE: 3.559463330502346\n"
     ]
    }
   ],
   "source": [
    "print(f\"Test MSE: {MSE(y_test, prediction)[0]}\")\n",
    "print(f\"Train MSE: {MSE(y_train, prediction_train)[0]}\")"
   ]
  },
  {
   "cell_type": "code",
   "execution_count": 39,
   "metadata": {},
   "outputs": [
    {
     "data": {
      "image/png": "[encoded data removed]",
      "text/plain": [
       "<Figure size 432x288 with 1 Axes>"
      ]
     },
     "metadata": {
      "needs_background": "light"
     },
     "output_type": "display_data"
    }
   ],
   "source": [
    "plt.title('Validation Target')\n",
    "plt.plot(prediction, label='prediction')\n",
    "plt.plot(y_test, label='ground truth')\n",
    "plt.legend()\n",
    "plt.show()"
   ]
  },
  {
   "cell_type": "code",
   "execution_count": 40,
   "metadata": {},
   "outputs": [
    {
     "data": {
      "image/png": "[encoded data removed]",
      "text/plain": [
       "<Figure size 432x288 with 1 Axes>"
      ]
     },
     "metadata": {
      "needs_background": "light"
     },
     "output_type": "display_data"
    },
    {
     "data": {
      "image/png": "[encoded data removed]",
      "text/plain": [
       "<Figure size 432x288 with 1 Axes>"
      ]
     },
     "metadata": {
      "needs_background": "light"
     },
     "output_type": "display_data"
    }
   ],
   "source": [
    "plt.title('Validation Prediction Distribution')\n",
    "plt.hist(prediction)\n",
    "plt.show()\n",
    "\n",
    "plt.title('Validation Target Distribution')\n",
    "plt.hist(y_test)\n",
    "plt.show()"
   ]
  }
 ],
 "metadata": {
  "kernelspec": {
   "display_name": "Python 3 (ipykernel)",
   "language": "python",
   "name": "python3"
  },
  "language_info": {
   "codemirror_mode": {
    "name": "ipython",
    "version": 3
   },
   "file_extension": ".py",
   "mimetype": "text/x-python",
   "name": "python",
   "nbconvert_exporter": "python",
   "pygments_lexer": "ipython3",
   "version": "3.9.6"
  }
 },
 "nbformat": 4,
 "nbformat_minor": 4
}
